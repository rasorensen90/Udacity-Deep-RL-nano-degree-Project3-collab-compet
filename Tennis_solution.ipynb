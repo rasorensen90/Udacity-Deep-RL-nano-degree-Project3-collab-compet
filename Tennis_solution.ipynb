{
 "cells": [
  {
   "cell_type": "markdown",
   "metadata": {},
   "source": [
    "# Collaboration and Competition\n",
    "\n",
    "---\n",
    "\n",
    "In this notebook, you will learn how to use the Unity ML-Agents environment for the third project of the [Deep Reinforcement Learning Nanodegree](https://www.udacity.com/course/deep-reinforcement-learning-nanodegree--nd893) program.\n",
    "\n",
    "### 1. Start the Environment\n",
    "\n",
    "We begin by importing the necessary packages.  If the code cell below returns an error, please revisit the project instructions to double-check that you have installed [Unity ML-Agents](https://github.com/Unity-Technologies/ml-agents/blob/master/docs/Installation.md) and [NumPy](http://www.numpy.org/)."
   ]
  },
  {
   "cell_type": "code",
   "execution_count": 1,
   "metadata": {},
   "outputs": [],
   "source": [
    "from unityagents import UnityEnvironment\n",
    "from utils import Config, OUNoise, Replay\n",
    "from agent import SelfPlayAgent\n",
    "from models import Actor, Critic\n",
    "from collections import deque\n",
    "import numpy as np\n",
    "import torch\n",
    "import torch.optim as optim\n",
    "import matplotlib.pyplot as plt"
   ]
  },
  {
   "cell_type": "markdown",
   "metadata": {},
   "source": [
    "Next, we will start the environment!  **_Before running the code cell below_**, change the `file_name` parameter to match the location of the Unity environment that you downloaded.\n",
    "\n",
    "- **Mac**: `\"path/to/Tennis.app\"`\n",
    "- **Windows** (x86): `\"path/to/Tennis_Windows_x86/Tennis.exe\"`\n",
    "- **Windows** (x86_64): `\"path/to/Tennis_Windows_x86_64/Tennis.exe\"`\n",
    "- **Linux** (x86): `\"path/to/Tennis_Linux/Tennis.x86\"`\n",
    "- **Linux** (x86_64): `\"path/to/Tennis_Linux/Tennis.x86_64\"`\n",
    "- **Linux** (x86, headless): `\"path/to/Tennis_Linux_NoVis/Tennis.x86\"`\n",
    "- **Linux** (x86_64, headless): `\"path/to/Tennis_Linux_NoVis/Tennis.x86_64\"`\n",
    "\n",
    "For instance, if you are using a Mac, then you downloaded `Tennis.app`.  If this file is in the same folder as the notebook, then the line below should appear as follows:\n",
    "```\n",
    "env = UnityEnvironment(file_name=\"Tennis.app\")\n",
    "```"
   ]
  },
  {
   "cell_type": "code",
   "execution_count": 2,
   "metadata": {},
   "outputs": [
    {
     "name": "stderr",
     "output_type": "stream",
     "text": [
      "INFO:unityagents:\n",
      "'Academy' started successfully!\n",
      "Unity Academy name: Academy\n",
      "        Number of Brains: 1\n",
      "        Number of External Brains : 1\n",
      "        Lesson number : 0\n",
      "        Reset Parameters :\n",
      "\t\t\n",
      "Unity brain name: TennisBrain\n",
      "        Number of Visual Observations (per agent): 0\n",
      "        Vector Observation space type: continuous\n",
      "        Vector Observation space size (per agent): 8\n",
      "        Number of stacked Vector Observation: 3\n",
      "        Vector Action space type: continuous\n",
      "        Vector Action space size (per agent): 2\n",
      "        Vector Action descriptions: , \n"
     ]
    }
   ],
   "source": [
    "config = Config(seed=0)\n",
    "\n",
    "config.env = UnityEnvironment(file_name=\"Tennis_Windows_x86_64/Tennis.exe\")"
   ]
  },
  {
   "cell_type": "markdown",
   "metadata": {},
   "source": [
    "Environments contain **_brains_** which are responsible for deciding the actions of their associated agents. Here we check for the first brain available, and set it as the default brain we will be controlling from Python."
   ]
  },
  {
   "cell_type": "code",
   "execution_count": 3,
   "metadata": {},
   "outputs": [],
   "source": [
    "# get the default brain\n",
    "config.brain_name = config.env.brain_names[0]\n",
    "config.brain = config.env.brains[config.brain_name]"
   ]
  },
  {
   "cell_type": "markdown",
   "metadata": {},
   "source": [
    "### 2. Examine the State and Action Spaces\n",
    "\n",
    "In this environment, two agents control rackets to bounce a ball over a net. If an agent hits the ball over the net, it receives a reward of +0.1.  If an agent lets a ball hit the ground or hits the ball out of bounds, it receives a reward of -0.01.  Thus, the goal of each agent is to keep the ball in play.\n",
    "\n",
    "The observation space consists of 8 variables corresponding to the position and velocity of the ball and racket. Two continuous actions are available, corresponding to movement toward (or away from) the net, and jumping. \n",
    "\n",
    "Run the code cell below to print some information about the environment."
   ]
  },
  {
   "cell_type": "code",
   "execution_count": 4,
   "metadata": {},
   "outputs": [
    {
     "name": "stdout",
     "output_type": "stream",
     "text": [
      "Number of agents: 2\n",
      "Size of each action: 2\n",
      "There are 2 agents. Each observes a state with length: 24\n",
      "The state for the first agent looks like: [ 0.          0.          0.          0.          0.          0.\n",
      "  0.          0.          0.          0.          0.          0.\n",
      "  0.          0.          0.          0.         -6.65278625 -1.5\n",
      " -0.          0.          6.83172083  6.         -0.          0.        ]\n"
     ]
    }
   ],
   "source": [
    "# reset the environment\n",
    "env_info = config.env.reset(train_mode=True)[config.brain_name]\n",
    "\n",
    "# number of agents \n",
    "config.num_agents = len(env_info.agents)\n",
    "print('Number of agents:', config.num_agents)\n",
    "\n",
    "# size of each action\n",
    "config.action_size = config.env.brains[config.brain_name].vector_action_space_size\n",
    "print('Size of each action:', config.action_size)\n",
    "\n",
    "# examine the state space \n",
    "states = env_info.vector_observations\n",
    "config.state_size = states.shape[1]\n",
    "print('There are {} agents. Each observes a state with length: {}'.format(states.shape[0], config.state_size))\n",
    "print('The state for the first agent looks like:', states[0])"
   ]
  },
  {
   "cell_type": "markdown",
   "metadata": {},
   "source": [
    "### 3. Setup the agent"
   ]
  },
  {
   "cell_type": "code",
   "execution_count": 5,
   "metadata": {},
   "outputs": [],
   "source": [
    "config.actor_fn = lambda: Actor(config.state_size, config.action_size, 128, 128, 128)\n",
    "config.actor_opt_fn = lambda params: optim.Adam(params, lr=1e-3)\n",
    "\n",
    "config.critic_fn = lambda: Critic(config.state_size * config.num_agents, config.action_size * config.num_agents, 128, 128, 128)\n",
    "config.critic_opt_fn = lambda params: optim.Adam(params, lr=2e-3)\n",
    "\n",
    "config.replay_fn = lambda: Replay(config.action_size, buffer_size=int(1e6), batch_size=128)\n",
    "config.noise_fn = lambda: OUNoise(config.action_size, mu=0., theta=0.15, sigma=0.1)\n",
    "\n",
    "config.discount = 0.99\n",
    "config.target_mix = 3e-3\n",
    "\n",
    "config.max_episodes = 2000\n",
    "config.max_steps = int(1e6)\n",
    "config.goal_score = 1\n",
    "\n",
    "config.actor_path = 'actor.pth'\n",
    "config.critic_path = 'critic.pth'\n",
    "config.scores_path = 'scores.png'\n",
    "\n",
    "# The same NN is used for both agents, as the state is the same seen from a mirrored perspective, and since the objective of the game is the same for both agents.\n",
    "agent = SelfPlayAgent(config)"
   ]
  },
  {
   "cell_type": "markdown",
   "metadata": {},
   "source": [
    "### Train agent"
   ]
  },
  {
   "cell_type": "code",
   "execution_count": null,
   "metadata": {},
   "outputs": [
    {
     "name": "stdout",
     "output_type": "stream",
     "text": [
      "Episode 0\tAverage Score: 0.00\tScore: 0.00\n",
      "Episode 100\tAverage Score: 0.01\tScore: 0.00\n",
      "Episode 140\tAverage Score: 0.01\tScore: 0.00"
     ]
    }
   ],
   "source": [
    "def run(agent):\n",
    "    config = agent.config\n",
    "    scores_deque = deque(maxlen=100)\n",
    "    scores = []\n",
    "    mean_scores = []\n",
    "\n",
    "    for episode in range(config.max_episodes):\n",
    "        score = np.zeros(config.num_agents)\n",
    "        env_info = config.env.reset(train_mode=True)[config.brain_name]\n",
    "        states = env_info.vector_observations\n",
    "\n",
    "        for step in range(config.max_steps):\n",
    "            actions = agent.act(states)\n",
    "            env_info = config.env.step(actions)[config.brain_name]\n",
    "            next_states = env_info.vector_observations\n",
    "            rewards = env_info.rewards\n",
    "            dones = env_info.local_done\n",
    "\n",
    "            agent.step(states, actions, rewards, next_states, dones)\n",
    "\n",
    "            score += rewards\n",
    "            states = next_states\n",
    "\n",
    "            if np.any(dones):\n",
    "                break\n",
    "\n",
    "        score = score.max()\n",
    "        scores.append(score)\n",
    "        scores_deque.append(score)\n",
    "        mean_score = np.mean(scores_deque)\n",
    "        mean_scores.append(mean_score)\n",
    "        \n",
    "        print('\\rEpisode {}\\tAverage Score: {:.2f}\\tScore: {:.2f}'.format(episode, mean_score, score), end=\"\")\n",
    "        if episode % 100 == 0:\n",
    "            print('\\rEpisode {}\\tAverage Score: {:.2f}\\tScore: {:.2f}'.format(episode, mean_score, score))\n",
    "\n",
    "        if mean_score >= config.goal_score:\n",
    "            break\n",
    "\n",
    "    torch.save(agent.online_actor.state_dict(), config.actor_path)\n",
    "    torch.save(agent.online_critic.state_dict(), config.critic_path)\n",
    "\n",
    "    fig, ax = plt.subplots()\n",
    "    x = np.arange(1, len(scores) + 1)\n",
    "    ax.plot(x, scores)\n",
    "    ax.plot(x, mean_scores)\n",
    "    ax.set_ylabel('Score')\n",
    "    ax.set_xlabel('Episode #')\n",
    "    fig.savefig(config.scores_path)\n",
    "    plt.show()\n",
    "\n",
    "run(agent)"
   ]
  },
  {
   "cell_type": "markdown",
   "metadata": {},
   "source": [
    "When finished, you can close the environment."
   ]
  },
  {
   "cell_type": "code",
   "execution_count": null,
   "metadata": {},
   "outputs": [],
   "source": [
    "env.close()"
   ]
  }
 ],
 "metadata": {
  "kernelspec": {
   "display_name": "Python 3",
   "language": "python",
   "name": "python3"
  },
  "language_info": {
   "codemirror_mode": {
    "name": "ipython",
    "version": 3
   },
   "file_extension": ".py",
   "mimetype": "text/x-python",
   "name": "python",
   "nbconvert_exporter": "python",
   "pygments_lexer": "ipython3",
   "version": "3.6.10"
  }
 },
 "nbformat": 4,
 "nbformat_minor": 2
}
